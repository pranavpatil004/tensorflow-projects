{
 "cells": [
  {
   "cell_type": "code",
   "execution_count": 1,
   "id": "5a1aba11",
   "metadata": {},
   "outputs": [],
   "source": [
    "import pandas as pd\n",
    "import tensorflow as tf"
   ]
  },
  {
   "cell_type": "code",
   "execution_count": 3,
   "id": "e4833986",
   "metadata": {},
   "outputs": [],
   "source": [
    "df = pd.read_csv('sudoku.csv', nrows=10000)"
   ]
  },
  {
   "cell_type": "code",
   "execution_count": 4,
   "id": "8f56d3a9",
   "metadata": {},
   "outputs": [
    {
     "name": "stdout",
     "output_type": "stream",
     "text": [
      "<class 'pandas.core.frame.DataFrame'>\n",
      "RangeIndex: 10000 entries, 0 to 9999\n",
      "Data columns (total 2 columns):\n",
      " #   Column    Non-Null Count  Dtype \n",
      "---  ------    --------------  ----- \n",
      " 0   puzzle    10000 non-null  object\n",
      " 1   solution  10000 non-null  object\n",
      "dtypes: object(2)\n",
      "memory usage: 156.4+ KB\n"
     ]
    }
   ],
   "source": [
    "df.info()"
   ]
  },
  {
   "cell_type": "code",
   "execution_count": 5,
   "id": "64922830",
   "metadata": {},
   "outputs": [
    {
     "data": {
      "text/html": [
       "<div>\n",
       "<style scoped>\n",
       "    .dataframe tbody tr th:only-of-type {\n",
       "        vertical-align: middle;\n",
       "    }\n",
       "\n",
       "    .dataframe tbody tr th {\n",
       "        vertical-align: top;\n",
       "    }\n",
       "\n",
       "    .dataframe thead th {\n",
       "        text-align: right;\n",
       "    }\n",
       "</style>\n",
       "<table border=\"1\" class=\"dataframe\">\n",
       "  <thead>\n",
       "    <tr style=\"text-align: right;\">\n",
       "      <th></th>\n",
       "      <th>puzzle</th>\n",
       "      <th>solution</th>\n",
       "    </tr>\n",
       "  </thead>\n",
       "  <tbody>\n",
       "    <tr>\n",
       "      <th>0</th>\n",
       "      <td>0700000430400096108006349000940520003584600200...</td>\n",
       "      <td>6795182435437296188216349577943521863584617292...</td>\n",
       "    </tr>\n",
       "    <tr>\n",
       "      <th>1</th>\n",
       "      <td>3010865040465210705000000014008000020803479000...</td>\n",
       "      <td>3719865248465213795924738614638197522853479167...</td>\n",
       "    </tr>\n",
       "    <tr>\n",
       "      <th>2</th>\n",
       "      <td>0483015603600080909106700030200009355090102006...</td>\n",
       "      <td>7483915623652487919126754834217869355894132766...</td>\n",
       "    </tr>\n",
       "    <tr>\n",
       "      <th>3</th>\n",
       "      <td>0083170000042051090000400703271609049014500000...</td>\n",
       "      <td>2983176457642851391539462783271689549814537266...</td>\n",
       "    </tr>\n",
       "    <tr>\n",
       "      <th>4</th>\n",
       "      <td>0408906300001368208007405190004670524500207002...</td>\n",
       "      <td>1428956379751368248367425193984671524513287962...</td>\n",
       "    </tr>\n",
       "  </tbody>\n",
       "</table>\n",
       "</div>"
      ],
      "text/plain": [
       "                                              puzzle  \\\n",
       "0  0700000430400096108006349000940520003584600200...   \n",
       "1  3010865040465210705000000014008000020803479000...   \n",
       "2  0483015603600080909106700030200009355090102006...   \n",
       "3  0083170000042051090000400703271609049014500000...   \n",
       "4  0408906300001368208007405190004670524500207002...   \n",
       "\n",
       "                                            solution  \n",
       "0  6795182435437296188216349577943521863584617292...  \n",
       "1  3719865248465213795924738614638197522853479167...  \n",
       "2  7483915623652487919126754834217869355894132766...  \n",
       "3  2983176457642851391539462783271689549814537266...  \n",
       "4  1428956379751368248367425193984671524513287962...  "
      ]
     },
     "execution_count": 5,
     "metadata": {},
     "output_type": "execute_result"
    }
   ],
   "source": [
    "df.head()"
   ]
  },
  {
   "cell_type": "code",
   "execution_count": 6,
   "id": "e713de52",
   "metadata": {},
   "outputs": [
    {
     "data": {
      "text/plain": [
       "dtype('O')"
      ]
     },
     "execution_count": 6,
     "metadata": {},
     "output_type": "execute_result"
    }
   ],
   "source": [
    "df[\"puzzle\"].dtype"
   ]
  },
  {
   "cell_type": "code",
   "execution_count": 7,
   "id": "c3d65d34",
   "metadata": {},
   "outputs": [],
   "source": [
    "from sklearn.model_selection import train_test_split\n",
    "import numpy as np"
   ]
  },
  {
   "cell_type": "code",
   "execution_count": 8,
   "id": "5352dcf9",
   "metadata": {},
   "outputs": [],
   "source": [
    "X, Y = df['puzzle'], df['solution']"
   ]
  },
  {
   "cell_type": "code",
   "execution_count": 9,
   "id": "3e1cf346",
   "metadata": {},
   "outputs": [],
   "source": [
    "#X_reshaped = X.apply(lambda i: np.array([int(j) for j in i]).reshape((9,9,1)))"
   ]
  },
  {
   "cell_type": "code",
   "execution_count": 11,
   "id": "f69150fe",
   "metadata": {},
   "outputs": [],
   "source": [
    "x_train, x_test, y_train, y_test = train_test_split(X, Y, test_size=0.20, random_state=100)"
   ]
  },
  {
   "cell_type": "code",
   "execution_count": 14,
   "id": "8c29bb75",
   "metadata": {},
   "outputs": [
    {
     "name": "stdout",
     "output_type": "stream",
     "text": [
      "(8000,)\n",
      "(2000,)\n",
      "(8000,)\n",
      "(2000,)\n"
     ]
    }
   ],
   "source": [
    "#Y_reshaped = Y.apply(lambda i: np.array([int(j) for j in i]).reshape((81,1)))\n",
    "\n",
    "print(x_train.shape)\n",
    "print(x_test.shape)\n",
    "print(y_train.shape)\n",
    "print(y_test.shape)"
   ]
  },
  {
   "cell_type": "code",
   "execution_count": 15,
   "id": "731b634a",
   "metadata": {},
   "outputs": [],
   "source": [
    "feat = []\n",
    "label = []\n",
    "\n",
    "for i in X:\n",
    "    x = np.array([int(j) for j in i]).reshape((9,9,1))\n",
    "    feat.append(x)\n",
    "\n",
    "feat = np.array(feat)\n",
    "feat = feat/9\n",
    "feat -= .5    \n",
    "\n",
    "for i in Y:\n",
    "    x = np.array([int(j) for j in i]).reshape((81,1)) - 1\n",
    "    label.append(x)   \n",
    "\n",
    "label = np.array(label)"
   ]
  },
  {
   "cell_type": "code",
   "execution_count": 53,
   "id": "c65f0021",
   "metadata": {},
   "outputs": [],
   "source": [
    "x_train, x_test, y_train, y_test = train_test_split(feat, label, test_size=0.20, random_state=100)"
   ]
  },
  {
   "cell_type": "code",
   "execution_count": 83,
   "id": "ec30ec10",
   "metadata": {},
   "outputs": [],
   "source": [
    "epochs = 5"
   ]
  },
  {
   "cell_type": "code",
   "execution_count": 54,
   "id": "a45ac399",
   "metadata": {},
   "outputs": [
    {
     "name": "stdout",
     "output_type": "stream",
     "text": [
      "(8000, 9, 9, 1)\n",
      "(2000, 9, 9, 1)\n",
      "(8000, 81, 1)\n",
      "(2000, 81, 1)\n",
      "(10000, 81, 1)\n"
     ]
    }
   ],
   "source": [
    "print(x_train.shape)\n",
    "print(x_test.shape)\n",
    "print(y_train.shape)\n",
    "print(y_test.shape)\n",
    "print(label.shape)"
   ]
  },
  {
   "cell_type": "markdown",
   "id": "a75c7826",
   "metadata": {},
   "source": [
    "y_train = y_train.reshape((-1,9))"
   ]
  },
  {
   "cell_type": "code",
   "execution_count": 62,
   "id": "776ae80a",
   "metadata": {},
   "outputs": [
    {
     "name": "stdout",
     "output_type": "stream",
     "text": [
      "(8000, 81, 9)\n",
      "(2000, 81, 9)\n"
     ]
    }
   ],
   "source": [
    "# convert class labels (from digits) to one-hot encoded vectors\n",
    "y_train = tf.keras.utils.to_categorical(y_train, 9)\n",
    "y_test = tf.keras.utils.to_categorical(y_test, 9)\n",
    "print(y_train.shape)\n",
    "print(y_test.shape)"
   ]
  },
  {
   "cell_type": "code",
   "execution_count": 63,
   "id": "3af21a1d",
   "metadata": {},
   "outputs": [],
   "source": [
    "import keras\n",
    "from keras.layers import Activation\n",
    "from keras.layers import Conv2D, BatchNormalization, Dense, Flatten, Reshape"
   ]
  },
  {
   "cell_type": "code",
   "execution_count": 75,
   "id": "2e40452f",
   "metadata": {},
   "outputs": [],
   "source": [
    "model = keras.models.Sequential()\n",
    "\n",
    "model.add(Conv2D(64, kernel_size=(3,3), activation='relu', padding='same', input_shape=(9,9,1)))\n",
    "model.add(BatchNormalization())\n",
    "model.add(Conv2D(64, kernel_size=(3,3), activation='relu', padding='same'))\n",
    "model.add(BatchNormalization())\n",
    "model.add(Conv2D(128, kernel_size=(1,1), activation='relu', padding='same'))\n",
    "\n",
    "model.add(Flatten())\n",
    "model.add(Dense(81*9))\n",
    "model.add(Reshape((-1, 9)))\n",
    "model.add(Activation('softmax'))"
   ]
  },
  {
   "cell_type": "code",
   "execution_count": 76,
   "id": "4fa7128d",
   "metadata": {},
   "outputs": [],
   "source": [
    "# metric is accuracy\n",
    "model.compile(loss=tf.keras.losses.categorical_crossentropy,\n",
    "              optimizer=tf.keras.optimizers.Adadelta(),\n",
    "              metrics=['accuracy'])"
   ]
  },
  {
   "cell_type": "code",
   "execution_count": 77,
   "id": "60a17053",
   "metadata": {},
   "outputs": [
    {
     "name": "stdout",
     "output_type": "stream",
     "text": [
      "Model: \"sequential_11\"\n",
      "_________________________________________________________________\n",
      "Layer (type)                 Output Shape              Param #   \n",
      "=================================================================\n",
      "conv2d_20 (Conv2D)           (None, 9, 9, 64)          640       \n",
      "_________________________________________________________________\n",
      "batch_normalization_9 (Batch (None, 9, 9, 64)          256       \n",
      "_________________________________________________________________\n",
      "conv2d_21 (Conv2D)           (None, 9, 9, 64)          36928     \n",
      "_________________________________________________________________\n",
      "flatten_4 (Flatten)          (None, 5184)              0         \n",
      "_________________________________________________________________\n",
      "dense_3 (Dense)              (None, 729)               3779865   \n",
      "_________________________________________________________________\n",
      "reshape_6 (Reshape)          (None, 81, 9)             0         \n",
      "_________________________________________________________________\n",
      "activation_11 (Activation)   (None, 81, 9)             0         \n",
      "=================================================================\n",
      "Total params: 3,817,689\n",
      "Trainable params: 3,817,561\n",
      "Non-trainable params: 128\n",
      "_________________________________________________________________\n"
     ]
    }
   ],
   "source": [
    "model.summary()"
   ]
  },
  {
   "cell_type": "code",
   "execution_count": 80,
   "id": "6b6f84d7",
   "metadata": {},
   "outputs": [
    {
     "name": "stdout",
     "output_type": "stream",
     "text": [
      "Epoch 1/5\n",
      "250/250 [==============================] - 18s 72ms/step - loss: 2.3019 - accuracy: 0.1123 - val_loss: 2.3012 - val_accuracy: 0.1120\n",
      "Epoch 2/5\n",
      "250/250 [==============================] - 17s 70ms/step - loss: 2.2961 - accuracy: 0.1125 - val_loss: 2.2962 - val_accuracy: 0.1120\n",
      "Epoch 3/5\n",
      "250/250 [==============================] - 17s 68ms/step - loss: 2.2911 - accuracy: 0.1128 - val_loss: 2.2916 - val_accuracy: 0.1119\n",
      "Epoch 4/5\n",
      "250/250 [==============================] - 17s 68ms/step - loss: 2.2867 - accuracy: 0.1132 - val_loss: 2.2878 - val_accuracy: 0.1123\n",
      "Epoch 5/5\n",
      "250/250 [==============================] - 17s 67ms/step - loss: 2.2827 - accuracy: 0.1135 - val_loss: 2.2842 - val_accuracy: 0.1124\n"
     ]
    }
   ],
   "source": [
    "history = model.fit(x_train, y_train,\n",
    "          epochs=epochs,\n",
    "          verbose=1,\n",
    "          validation_data=(x_test, y_test))"
   ]
  },
  {
   "cell_type": "code",
   "execution_count": 81,
   "id": "cf7a66b5",
   "metadata": {},
   "outputs": [],
   "source": [
    "import matplotlib.pyplot as plt"
   ]
  },
  {
   "cell_type": "code",
   "execution_count": 84,
   "id": "8806cbe6",
   "metadata": {},
   "outputs": [
    {
     "data": {
      "image/png": "[encoded data removed]",
      "text/plain": [
       "<Figure size 576x576 with 2 Axes>"
      ]
     },
     "metadata": {
      "needs_background": "light"
     },
     "output_type": "display_data"
    }
   ],
   "source": [
    "acc = history.history['accuracy']\n",
    "val_acc = history.history['val_accuracy']\n",
    "\n",
    "loss = history.history['loss']\n",
    "val_loss = history.history['val_loss']\n",
    "\n",
    "epochs_range = range(epochs)\n",
    "\n",
    "plt.figure(figsize=(8, 8))\n",
    "plt.subplot(1, 2, 1)\n",
    "plt.plot(epochs_range, acc, label='Training Accuracy')\n",
    "plt.plot(epochs_range, val_acc, label='Validation Accuracy')\n",
    "plt.legend(loc='lower right')\n",
    "plt.title('Training and Validation Accuracy')\n",
    "\n",
    "plt.subplot(1, 2, 2)\n",
    "plt.plot(epochs_range, loss, label='Training Loss')\n",
    "plt.plot(epochs_range, val_loss, label='Validation Loss')\n",
    "plt.legend(loc='upper right')\n",
    "plt.title('Training and Validation Loss')\n",
    "plt.show()"
   ]
  },
  {
   "cell_type": "code",
   "execution_count": null,
   "id": "1bc8adf7",
   "metadata": {},
   "outputs": [],
   "source": []
  }
 ],
 "metadata": {
  "kernelspec": {
   "display_name": "Python 3",
   "language": "python",
   "name": "python3"
  },
  "varInspector": {
   "cols": {
    "lenName": 16,
    "lenType": 16,
    "lenVar": 40
   },
   "kernels_config": {
    "python": {
     "delete_cmd_postfix": "",
     "delete_cmd_prefix": "del ",
     "library": "var_list.py",
     "varRefreshCmd": "print(var_dic_list())"
    },
    "r": {
     "delete_cmd_postfix": ") ",
     "delete_cmd_prefix": "rm(",
     "library": "var_list.r",
     "varRefreshCmd": "cat(var_dic_list()) "
    }
   },
   "position": {
    "height": "144.844px",
    "left": "1537px",
    "right": "20px",
    "top": "126px",
    "width": "350px"
   },
   "types_to_exclude": [
    "module",
    "function",
    "builtin_function_or_method",
    "instance",
    "_Feature"
   ],
   "window_display": true
  }
 },
 "nbformat": 4,
 "nbformat_minor": 5
}
