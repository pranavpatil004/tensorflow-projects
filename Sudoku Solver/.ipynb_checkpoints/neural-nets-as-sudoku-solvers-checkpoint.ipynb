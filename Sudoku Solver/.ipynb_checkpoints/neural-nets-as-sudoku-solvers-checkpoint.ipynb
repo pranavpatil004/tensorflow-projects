{
 "cells": [
  {
   "cell_type": "markdown",
   "metadata": {
    "_cell_guid": "c69add83-09b7-4f11-b264-4e4f67412a09",
    "_uuid": "88d2fedfcbf27d1f653da55a3119b9e033068168"
   },
   "source": [
    "# Neural nets as Sudoku solvers\n",
    "\n",
    "Since the dataset was initially created for neural-nets, I focus on this approach. Obviously, there are other ways to solve Sudoku puzzle, some of them are way more intuitive than neural-nets. However, it was an opportunity to get a first hands-on with Keras framework !\n",
    "\n",
    "I read the https://github.com/Kyubyong/sudoku to see if CNNs can crack Sudoku puzzles. \n",
    "I was wondering if we could achieve similar results with a simpler neural net architecture.\n",
    "\n",
    "I decided to dig more in the direction of the following tip Kyubyong mentionned about predicting :\n",
    "> I use a simple trick in inference. Instead of cracking the whole blanks all at once, I fill in a single blank where the prediction is the most probable among the all predictions.\n",
    "\n",
    "I used the same trick but in **both prediction phase AND training phase.**\n",
    "One of my workmate came up with this idea. Thanks to him !\n",
    "\n",
    "In a nutshell : \n",
    "* **step 1 - Calibration**: train network to reproduce a correct grid identically.\n",
    "* **step 2 - Pull off** : for each training quizz, pull off one digit, and train to recover it.\n",
    "* **step 3 - pull off one more**: pull off 2 digits (the first one may be different than *step 2*).\n",
    "* **...**\n",
    "* **penultimate step**: pull off a reasonible number off digits to build a realistic Sudoku grid (arround 50)\n",
    "* **final step**: Predict smartly. Take a quizz, get predictions, place the digit which the network is more confident with to complete one single blank. Then feed the new quizz (with one blank less) into the network again. And so on until there is no more blank.\n",
    "\n",
    "It works pretty well, with a final **99.7 % accuracy**. Feel free to fine-tune the model and share your results :).\n",
    "\n",
    "Merry end of the year !\n",
    "\n",
    "Dithyrambe\n",
    "\n",
    "*NOTE : Training the network is quite long, you'll have to run the notebook on your environment since Kaggle kills it after 3600 sec*"
   ]
  },
  {
   "cell_type": "code",
   "execution_count": 1,
   "metadata": {
    "_cell_guid": "929f77d4-34ab-4866-9791-2cb9463be069",
    "_uuid": "5a67ab391ffaa9e6a5d0dddbe36293af7b7b695a",
    "execution": {
     "iopub.execute_input": "2021-11-19T04:07:51.823922Z",
     "iopub.status.busy": "2021-11-19T04:07:51.823671Z",
     "iopub.status.idle": "2021-11-19T04:07:54.287255Z",
     "shell.execute_reply": "2021-11-19T04:07:54.286613Z",
     "shell.execute_reply.started": "2021-11-19T04:07:51.823873Z"
    }
   },
   "outputs": [],
   "source": [
    "# imports\n",
    "import numpy as np\n",
    "import pandas as pd\n",
    "\n",
    "from keras import Model, Sequential\n",
    "from keras.callbacks import EarlyStopping\n",
    "from keras.layers import Dense, Dropout, Flatten, Input\n",
    "from keras.utils import to_categorical"
   ]
  },
  {
   "cell_type": "markdown",
   "metadata": {
    "_cell_guid": "e1280c7e-859c-4167-9911-96d9a6f37eb4",
    "_uuid": "6e2c44b7dd8880110a9673d866f07a7f1bf2b59c"
   },
   "source": [
    "Define some useful functions. Docstrings should be enough for explanations. The whole trick is in the `batch_smart_solve` function."
   ]
  },
  {
   "cell_type": "code",
   "execution_count": 2,
   "metadata": {
    "_cell_guid": "3fe08b59-de4f-40ff-8144-a8cab73533a4",
    "_uuid": "58458c047d5a801973815efe3abd0dc2bbb99b98",
    "execution": {
     "iopub.execute_input": "2021-11-19T04:07:54.288338Z",
     "iopub.status.busy": "2021-11-19T04:07:54.288126Z",
     "iopub.status.idle": "2021-11-19T04:07:54.413783Z",
     "shell.execute_reply": "2021-11-19T04:07:54.413060Z",
     "shell.execute_reply.started": "2021-11-19T04:07:54.288300Z"
    }
   },
   "outputs": [],
   "source": [
    "def load_data(nb_train=40000, nb_test=10000, full=False):\n",
    "    \"\"\"\n",
    "    Function to load data in the keras way.\n",
    "    \n",
    "    Parameters\n",
    "    ----------\n",
    "    nb_train (int): Number of training examples\n",
    "    nb_test (int): Number of testing examples\n",
    "    full (bool): If True, whole csv will be loaded, nb_test will be ignored\n",
    "    \n",
    "    Returns\n",
    "    -------\n",
    "    Xtrain, ytrain (np.array, np.array),\n",
    "        shapes (nb_train, 9, 9), (nb_train, 9, 9): Training samples\n",
    "    Xtest, ytest (np.array, np.array), \n",
    "        shapes (nb_test, 9, 9), (nb_test, 9, 9): Testing samples\n",
    "    \"\"\"\n",
    "    # if full is true, load the whole dataset\n",
    "    if full:\n",
    "        sudokus = pd.read_csv('./sudoku.csv').values\n",
    "    else:\n",
    "        sudokus = next(\n",
    "            pd.read_csv('./sudoku.csv', chunksize=(nb_train + nb_test))\n",
    "        ).values\n",
    "        \n",
    "    quizzes, solutions = sudokus.T\n",
    "    flatX = np.array([np.reshape([int(d) for d in flatten_grid], (9, 9))\n",
    "                      for flatten_grid in quizzes])\n",
    "    flaty = np.array([np.reshape([int(d) for d in flatten_grid], (9, 9))\n",
    "                      for flatten_grid in solutions])\n",
    "    \n",
    "    return (flatX[:nb_train], flaty[:nb_train]), (flatX[nb_train:], flaty[nb_train:])\n",
    "\n",
    "\n",
    "def diff(grids_true, grids_pred):\n",
    "    \"\"\"\n",
    "    This function shows how well predicted quizzes fit to actual solutions.\n",
    "    It will store sum of differences for each pair (solution, guess)\n",
    "    \n",
    "    Parameters\n",
    "    ----------\n",
    "    grids_true (np.array), shape (?, 9, 9): Real solutions to guess in the digit repesentation\n",
    "    grids_pred (np.array), shape (?, 9, 9): Guesses\n",
    "    \n",
    "    Returns\n",
    "    -------\n",
    "    diff (np.array), shape (?,): Number of differences for each pair (solution, guess)\n",
    "    \"\"\"\n",
    "    return (grids_true != grids_pred).sum((1, 2))\n",
    "\n",
    "\n",
    "def delete_digits(X, n_delet=1):\n",
    "    \"\"\"\n",
    "    This function is used to create sudoku quizzes from solutions\n",
    "    \n",
    "    Parameters\n",
    "    ----------\n",
    "    X (np.array), shape (?, 9, 9, 9|10): input solutions grids.\n",
    "    n_delet (integer): max number of digit to suppress from original solutions\n",
    "    \n",
    "    Returns\n",
    "    -------\n",
    "    grids: np.array of grids to guess in one-hot way. Shape: (?, 9, 9, 10)\n",
    "    \"\"\"\n",
    "    grids = X.argmax(3)  # get the grid in a (9, 9) integer shape\n",
    "    for grid in grids:\n",
    "        grid.flat[np.random.randint(0, 81, n_delet)] = 0  # generate blanks (replace = True)\n",
    "        \n",
    "    return to_categorical(grids)\n",
    "\n",
    "\n",
    "def batch_smart_solve(grids, solver):\n",
    "    \"\"\"\n",
    "    NOTE : This function is ugly, feel free to optimize the code ...\n",
    "    \n",
    "    This function solves quizzes in the \"smart\" way. \n",
    "    It will fill blanks one after the other. Each time a digit is filled, \n",
    "    the new grid will be fed again to the solver to predict the next digit. \n",
    "    Again and again, until there is no more blank\n",
    "    \n",
    "    Parameters\n",
    "    ----------\n",
    "    grids (np.array), shape (?, 9, 9): Batch of quizzes to solve (smartly ;))\n",
    "    solver (keras.model): The neural net solver\n",
    "    \n",
    "    Returns\n",
    "    -------\n",
    "    grids (np.array), shape (?, 9, 9): Smartly solved quizzes.\n",
    "    \"\"\"\n",
    "    grids = grids.copy()\n",
    "    for _ in range((grids == 0).sum((1, 2)).max()):\n",
    "        preds = np.array(solver.predict(to_categorical(grids)))  # get predictions\n",
    "        probs = preds.max(2).T  # get highest probability for each 81 digit to predict\n",
    "        values = preds.argmax(2).T + 1  # get corresponding values\n",
    "        zeros = (grids == 0).reshape((grids.shape[0], 81))  # get blank positions\n",
    "\n",
    "        for grid, prob, value, zero in zip(grids, probs, values, zeros):\n",
    "            if any(zero):  # don't try to fill already completed grid\n",
    "                where = np.where(zero)[0]  # focus on blanks only\n",
    "                confidence_position = where[prob[zero].argmax()]  # best score FOR A ZERO VALUE (confident blank)\n",
    "                confidence_value = value[confidence_position]  # get corresponding value\n",
    "                grid.flat[confidence_position] = confidence_value  # fill digit inplace\n",
    "    return grids"
   ]
  },
  {
   "cell_type": "markdown",
   "metadata": {
    "_cell_guid": "6721589d-7646-40bc-be27-c03b43f656ff",
    "_uuid": "8ad6b3d894a4924d6fb456f116bb02b3a6688f94"
   },
   "source": [
    "### Prepare data for the training phase.\n",
    "\n",
    "Since we built a `delete_digits` function, we will create our own training set from `ytrain` directly.\n",
    "Also note that we don't want targets to be (9, 9, 10) shaped. Since predicting zeros is useless ... we want to FILL zeros"
   ]
  },
  {
   "cell_type": "code",
   "execution_count": 3,
   "metadata": {
    "_cell_guid": "dec29252-c08b-4df6-bee9-ca7f3d9a74b4",
    "_uuid": "f66ac6c0b5776900166ee365803a5d29aa2b7de8",
    "execution": {
     "iopub.execute_input": "2021-11-19T04:07:54.415567Z",
     "iopub.status.busy": "2021-11-19T04:07:54.415225Z",
     "iopub.status.idle": "2021-11-19T04:07:58.957867Z",
     "shell.execute_reply": "2021-11-19T04:07:58.957162Z",
     "shell.execute_reply.started": "2021-11-19T04:07:54.415489Z"
    }
   },
   "outputs": [],
   "source": [
    "input_shape = (9, 9, 10)\n",
    "(_, ytrain), (Xtest, ytest) = load_data()  # We won't use _. We will work directly with ytrain\n",
    "\n",
    "# one-hot-encoding --> shapes become :\n",
    "# (?, 9, 9, 10) for Xs\n",
    "# (?, 9, 9, 9) for ys\n",
    "Xtrain = to_categorical(ytrain).astype('float32')  # from ytrain cause we will creates quizzes from solusions\n",
    "Xtest = to_categorical(Xtest).astype('float32')\n",
    "\n",
    "ytrain = to_categorical(ytrain-1).astype('float32') # (y - 1) because we \n",
    "ytest = to_categorical(ytest-1).astype('float32')   # don't want to predict zeros"
   ]
  },
  {
   "cell_type": "markdown",
   "metadata": {
    "_cell_guid": "fff74434-5360-4ac7-ae4d-2cffd2b4730b",
    "_uuid": "72a8851979580b3eb1db0df95640aaebb463aa8b"
   },
   "source": [
    "### Lets now define the keras model\n",
    "It consists in a simple 2 `Dense` layers and 81 `Dense` output layer (one for each digits to predict)."
   ]
  },
  {
   "cell_type": "code",
   "execution_count": 4,
   "metadata": {
    "_cell_guid": "249609bb-9340-4b7c-840c-6f14940296f2",
    "_uuid": "3ac959c35620ad3de9a69ea25769916b0339388f",
    "execution": {
     "iopub.execute_input": "2021-11-19T04:07:58.959394Z",
     "iopub.status.busy": "2021-11-19T04:07:58.959133Z",
     "iopub.status.idle": "2021-11-19T04:08:01.471570Z",
     "shell.execute_reply": "2021-11-19T04:08:01.470966Z",
     "shell.execute_reply.started": "2021-11-19T04:07:58.959350Z"
    }
   },
   "outputs": [],
   "source": [
    "model = Sequential()\n",
    "model.add(Dense(64, activation='relu', input_shape=input_shape))\n",
    "model.add(Dropout(0.4))\n",
    "model.add(Dense(64, activation='relu'))\n",
    "model.add(Dropout(0.4))\n",
    "model.add(Flatten())\n",
    "\n",
    "grid = Input(shape=input_shape)  # inputs\n",
    "features = model(grid)  # commons features\n",
    "\n",
    "# define one Dense layer for each of the digit we want to predict\n",
    "digit_placeholders = [\n",
    "    Dense(9, activation='softmax')(features)\n",
    "    for i in range(81)\n",
    "]\n",
    "\n",
    "solver = Model(grid, digit_placeholders)  # build the whole model\n",
    "solver.compile(\n",
    "    optimizer='adam',\n",
    "    loss='categorical_crossentropy',\n",
    "    metrics=['accuracy']\n",
    ")"
   ]
  },
  {
   "cell_type": "code",
   "execution_count": 5,
   "metadata": {
    "execution": {
     "iopub.execute_input": "2021-11-19T04:08:01.472883Z",
     "iopub.status.busy": "2021-11-19T04:08:01.472629Z",
     "iopub.status.idle": "2021-11-19T04:08:01.506016Z",
     "shell.execute_reply": "2021-11-19T04:08:01.505249Z",
     "shell.execute_reply.started": "2021-11-19T04:08:01.472841Z"
    }
   },
   "outputs": [
    {
     "name": "stdout",
     "output_type": "stream",
     "text": [
      "Model: \"functional_1\"\n",
      "__________________________________________________________________________________________________\n",
      "Layer (type)                    Output Shape         Param #     Connected to                     \n",
      "==================================================================================================\n",
      "input_1 (InputLayer)            [(None, 9, 9, 10)]   0                                            \n",
      "__________________________________________________________________________________________________\n",
      "sequential (Sequential)         (None, 5184)         4864        input_1[0][0]                    \n",
      "__________________________________________________________________________________________________\n",
      "dense_2 (Dense)                 (None, 9)            46665       sequential[0][0]                 \n",
      "__________________________________________________________________________________________________\n",
      "dense_3 (Dense)                 (None, 9)            46665       sequential[0][0]                 \n",
      "__________________________________________________________________________________________________\n",
      "dense_4 (Dense)                 (None, 9)            46665       sequential[0][0]                 \n",
      "__________________________________________________________________________________________________\n",
      "dense_5 (Dense)                 (None, 9)            46665       sequential[0][0]                 \n",
      "__________________________________________________________________________________________________\n",
      "dense_6 (Dense)                 (None, 9)            46665       sequential[0][0]                 \n",
      "__________________________________________________________________________________________________\n",
      "dense_7 (Dense)                 (None, 9)            46665       sequential[0][0]                 \n",
      "__________________________________________________________________________________________________\n",
      "dense_8 (Dense)                 (None, 9)            46665       sequential[0][0]                 \n",
      "__________________________________________________________________________________________________\n",
      "dense_9 (Dense)                 (None, 9)            46665       sequential[0][0]                 \n",
      "__________________________________________________________________________________________________\n",
      "dense_10 (Dense)                (None, 9)            46665       sequential[0][0]                 \n",
      "__________________________________________________________________________________________________\n",
      "dense_11 (Dense)                (None, 9)            46665       sequential[0][0]                 \n",
      "__________________________________________________________________________________________________\n",
      "dense_12 (Dense)                (None, 9)            46665       sequential[0][0]                 \n",
      "__________________________________________________________________________________________________\n",
      "dense_13 (Dense)                (None, 9)            46665       sequential[0][0]                 \n",
      "__________________________________________________________________________________________________\n",
      "dense_14 (Dense)                (None, 9)            46665       sequential[0][0]                 \n",
      "__________________________________________________________________________________________________\n",
      "dense_15 (Dense)                (None, 9)            46665       sequential[0][0]                 \n",
      "__________________________________________________________________________________________________\n",
      "dense_16 (Dense)                (None, 9)            46665       sequential[0][0]                 \n",
      "__________________________________________________________________________________________________\n",
      "dense_17 (Dense)                (None, 9)            46665       sequential[0][0]                 \n",
      "__________________________________________________________________________________________________\n",
      "dense_18 (Dense)                (None, 9)            46665       sequential[0][0]                 \n",
      "__________________________________________________________________________________________________\n",
      "dense_19 (Dense)                (None, 9)            46665       sequential[0][0]                 \n",
      "__________________________________________________________________________________________________\n",
      "dense_20 (Dense)                (None, 9)            46665       sequential[0][0]                 \n",
      "__________________________________________________________________________________________________\n",
      "dense_21 (Dense)                (None, 9)            46665       sequential[0][0]                 \n",
      "__________________________________________________________________________________________________\n",
      "dense_22 (Dense)                (None, 9)            46665       sequential[0][0]                 \n",
      "__________________________________________________________________________________________________\n",
      "dense_23 (Dense)                (None, 9)            46665       sequential[0][0]                 \n",
      "__________________________________________________________________________________________________\n",
      "dense_24 (Dense)                (None, 9)            46665       sequential[0][0]                 \n",
      "__________________________________________________________________________________________________\n",
      "dense_25 (Dense)                (None, 9)            46665       sequential[0][0]                 \n",
      "__________________________________________________________________________________________________\n",
      "dense_26 (Dense)                (None, 9)            46665       sequential[0][0]                 \n",
      "__________________________________________________________________________________________________\n",
      "dense_27 (Dense)                (None, 9)            46665       sequential[0][0]                 \n",
      "__________________________________________________________________________________________________\n",
      "dense_28 (Dense)                (None, 9)            46665       sequential[0][0]                 \n",
      "__________________________________________________________________________________________________\n",
      "dense_29 (Dense)                (None, 9)            46665       sequential[0][0]                 \n",
      "__________________________________________________________________________________________________\n",
      "dense_30 (Dense)                (None, 9)            46665       sequential[0][0]                 \n",
      "__________________________________________________________________________________________________\n",
      "dense_31 (Dense)                (None, 9)            46665       sequential[0][0]                 \n",
      "__________________________________________________________________________________________________\n",
      "dense_32 (Dense)                (None, 9)            46665       sequential[0][0]                 \n",
      "__________________________________________________________________________________________________\n",
      "dense_33 (Dense)                (None, 9)            46665       sequential[0][0]                 \n",
      "__________________________________________________________________________________________________\n",
      "dense_34 (Dense)                (None, 9)            46665       sequential[0][0]                 \n",
      "__________________________________________________________________________________________________\n",
      "dense_35 (Dense)                (None, 9)            46665       sequential[0][0]                 \n",
      "__________________________________________________________________________________________________\n",
      "dense_36 (Dense)                (None, 9)            46665       sequential[0][0]                 \n",
      "__________________________________________________________________________________________________\n",
      "dense_37 (Dense)                (None, 9)            46665       sequential[0][0]                 \n",
      "__________________________________________________________________________________________________\n",
      "dense_38 (Dense)                (None, 9)            46665       sequential[0][0]                 \n",
      "__________________________________________________________________________________________________\n",
      "dense_39 (Dense)                (None, 9)            46665       sequential[0][0]                 \n",
      "__________________________________________________________________________________________________\n",
      "dense_40 (Dense)                (None, 9)            46665       sequential[0][0]                 \n",
      "__________________________________________________________________________________________________\n",
      "dense_41 (Dense)                (None, 9)            46665       sequential[0][0]                 \n",
      "__________________________________________________________________________________________________\n",
      "dense_42 (Dense)                (None, 9)            46665       sequential[0][0]                 \n",
      "__________________________________________________________________________________________________\n",
      "dense_43 (Dense)                (None, 9)            46665       sequential[0][0]                 \n",
      "__________________________________________________________________________________________________\n",
      "dense_44 (Dense)                (None, 9)            46665       sequential[0][0]                 \n",
      "__________________________________________________________________________________________________\n",
      "dense_45 (Dense)                (None, 9)            46665       sequential[0][0]                 \n",
      "__________________________________________________________________________________________________\n",
      "dense_46 (Dense)                (None, 9)            46665       sequential[0][0]                 \n",
      "__________________________________________________________________________________________________\n",
      "dense_47 (Dense)                (None, 9)            46665       sequential[0][0]                 \n",
      "__________________________________________________________________________________________________\n",
      "dense_48 (Dense)                (None, 9)            46665       sequential[0][0]                 \n",
      "__________________________________________________________________________________________________\n",
      "dense_49 (Dense)                (None, 9)            46665       sequential[0][0]                 \n",
      "__________________________________________________________________________________________________\n",
      "dense_50 (Dense)                (None, 9)            46665       sequential[0][0]                 \n",
      "__________________________________________________________________________________________________\n",
      "dense_51 (Dense)                (None, 9)            46665       sequential[0][0]                 \n",
      "__________________________________________________________________________________________________\n",
      "dense_52 (Dense)                (None, 9)            46665       sequential[0][0]                 \n",
      "__________________________________________________________________________________________________\n",
      "dense_53 (Dense)                (None, 9)            46665       sequential[0][0]                 \n",
      "__________________________________________________________________________________________________\n",
      "dense_54 (Dense)                (None, 9)            46665       sequential[0][0]                 \n",
      "__________________________________________________________________________________________________\n",
      "dense_55 (Dense)                (None, 9)            46665       sequential[0][0]                 \n",
      "__________________________________________________________________________________________________\n",
      "dense_56 (Dense)                (None, 9)            46665       sequential[0][0]                 \n",
      "__________________________________________________________________________________________________\n",
      "dense_57 (Dense)                (None, 9)            46665       sequential[0][0]                 \n",
      "__________________________________________________________________________________________________\n",
      "dense_58 (Dense)                (None, 9)            46665       sequential[0][0]                 \n",
      "__________________________________________________________________________________________________\n",
      "dense_59 (Dense)                (None, 9)            46665       sequential[0][0]                 \n",
      "__________________________________________________________________________________________________\n",
      "dense_60 (Dense)                (None, 9)            46665       sequential[0][0]                 \n",
      "__________________________________________________________________________________________________\n",
      "dense_61 (Dense)                (None, 9)            46665       sequential[0][0]                 \n",
      "__________________________________________________________________________________________________\n",
      "dense_62 (Dense)                (None, 9)            46665       sequential[0][0]                 \n",
      "__________________________________________________________________________________________________\n",
      "dense_63 (Dense)                (None, 9)            46665       sequential[0][0]                 \n",
      "__________________________________________________________________________________________________\n",
      "dense_64 (Dense)                (None, 9)            46665       sequential[0][0]                 \n",
      "__________________________________________________________________________________________________\n",
      "dense_65 (Dense)                (None, 9)            46665       sequential[0][0]                 \n",
      "__________________________________________________________________________________________________\n",
      "dense_66 (Dense)                (None, 9)            46665       sequential[0][0]                 \n",
      "__________________________________________________________________________________________________\n",
      "dense_67 (Dense)                (None, 9)            46665       sequential[0][0]                 \n",
      "__________________________________________________________________________________________________\n",
      "dense_68 (Dense)                (None, 9)            46665       sequential[0][0]                 \n",
      "__________________________________________________________________________________________________\n",
      "dense_69 (Dense)                (None, 9)            46665       sequential[0][0]                 \n",
      "__________________________________________________________________________________________________\n",
      "dense_70 (Dense)                (None, 9)            46665       sequential[0][0]                 \n",
      "__________________________________________________________________________________________________\n",
      "dense_71 (Dense)                (None, 9)            46665       sequential[0][0]                 \n",
      "__________________________________________________________________________________________________\n",
      "dense_72 (Dense)                (None, 9)            46665       sequential[0][0]                 \n",
      "__________________________________________________________________________________________________\n",
      "dense_73 (Dense)                (None, 9)            46665       sequential[0][0]                 \n",
      "__________________________________________________________________________________________________\n",
      "dense_74 (Dense)                (None, 9)            46665       sequential[0][0]                 \n",
      "__________________________________________________________________________________________________\n",
      "dense_75 (Dense)                (None, 9)            46665       sequential[0][0]                 \n",
      "__________________________________________________________________________________________________\n",
      "dense_76 (Dense)                (None, 9)            46665       sequential[0][0]                 \n",
      "__________________________________________________________________________________________________\n",
      "dense_77 (Dense)                (None, 9)            46665       sequential[0][0]                 \n",
      "__________________________________________________________________________________________________\n",
      "dense_78 (Dense)                (None, 9)            46665       sequential[0][0]                 \n",
      "__________________________________________________________________________________________________\n",
      "dense_79 (Dense)                (None, 9)            46665       sequential[0][0]                 \n",
      "__________________________________________________________________________________________________\n",
      "dense_80 (Dense)                (None, 9)            46665       sequential[0][0]                 \n",
      "__________________________________________________________________________________________________\n",
      "dense_81 (Dense)                (None, 9)            46665       sequential[0][0]                 \n",
      "__________________________________________________________________________________________________\n",
      "dense_82 (Dense)                (None, 9)            46665       sequential[0][0]                 \n",
      "==================================================================================================\n",
      "Total params: 3,784,729\n",
      "Trainable params: 3,784,729\n",
      "Non-trainable params: 0\n",
      "__________________________________________________________________________________________________\n"
     ]
    }
   ],
   "source": [
    "solver.summary()"
   ]
  },
  {
   "cell_type": "markdown",
   "metadata": {
    "_cell_guid": "d2a8e6b1-b66a-4e3d-be63-911b0187fced",
    "_uuid": "6c57e818173fbb207d03f60ba7dd0d2f14c70fab"
   },
   "source": [
    "### Train model to output solution from a solution.\n",
    "This is part of the trick. The idea comes from a workmate. Thanks to him.\n",
    "The idea is to make the network outputs the solution for the easiest quizz. That is to say ... the solution itself\n",
    "\n",
    "***solver(solution) &rarr; solution***\n",
    "\n",
    "This will calibrate weights to reproduce the grid (as auto-encoders do ?)."
   ]
  },
  {
   "cell_type": "code",
   "execution_count": 8,
   "metadata": {},
   "outputs": [
    {
     "data": {
      "text/plain": [
       "(40000, 9, 9, 9)"
      ]
     },
     "execution_count": 8,
     "metadata": {},
     "output_type": "execute_result"
    }
   ],
   "source": [
    "ytrain.shape"
   ]
  },
  {
   "cell_type": "code",
   "execution_count": null,
   "metadata": {},
   "outputs": [],
   "source": [
    "[ytrain[:, i, j, :] for i in range(9) for j in range(9)]"
   ]
  },
  {
   "cell_type": "code",
   "execution_count": null,
   "metadata": {
    "_cell_guid": "777277c5-c04f-4ff0-be57-bb03e6d73543",
    "_uuid": "c6ac71ad587e5e69915e21a4b4438156493b53bb",
    "execution": {
     "iopub.execute_input": "2021-11-19T04:08:01.507213Z",
     "iopub.status.busy": "2021-11-19T04:08:01.506956Z",
     "iopub.status.idle": "2021-11-19T04:09:14.204358Z"
    }
   },
   "outputs": [],
   "source": [
    "solver.fit(\n",
    "    delete_digits(Xtrain, 0),  # we don't delete any digit for now\n",
    "    [ytrain[:, i, j, :] for i in range(9) for j in range(9)],  # each digit of solution\n",
    "    batch_size=128,\n",
    "    epochs=1,  # 1 epoch should be enough for the task\n",
    "    verbose=1,\n",
    ")"
   ]
  },
  {
   "cell_type": "markdown",
   "metadata": {
    "_cell_guid": "c64585a0-6544-49bf-8ad5-dfbd8b7f2a1d",
    "_uuid": "5d3795f334aed71459fd34ee499a3c17071057c7"
   },
   "source": [
    "### Train model to guess something harder ... and harder ... and harder. One drop at a time.\n",
    "Here we will track validation loss to avoid over fitting\n",
    "\n",
    "First, we will pull off *a single* digit from the solution. This is quite a simple quizz to guess.\n",
    "We will train the network until it overfits\n",
    "\n",
    "Next, lets pull off 2 of them, ... then 3, ... then 4, and so on since we reach hard enough grid with around 55 missing digits."
   ]
  },
  {
   "cell_type": "code",
   "execution_count": null,
   "metadata": {
    "_cell_guid": "19566367-f572-4806-888f-fa7f57630ce0",
    "_uuid": "10663bb7dec58680bc21973820b318828671b1b8",
    "execution": {
     "iopub.execute_input": "2021-11-19T04:09:14.206164Z",
     "iopub.status.busy": "2021-11-19T04:09:14.205688Z"
    }
   },
   "outputs": [],
   "source": [
    "early_stop = EarlyStopping(patience=2, verbose=1)\n",
    "\n",
    "i = 1\n",
    "for nb_epochs, nb_delete in zip(\n",
    "        [1, 2, 3, 4, 6, 8, 10, 10, 10, 10, 10, 10, 10, 10, 10, 10, 10],  # epochs for each round\n",
    "        [1, 2, 3, 4, 6, 8, 10, 12, 15, 20, 25, 30, 35, 40, 45, 50, 55]  # digit to pull off\n",
    "):\n",
    "    print('Pass n° {} ...'.format(i))\n",
    "    i += 1\n",
    "    \n",
    "    solver.fit(\n",
    "        delete_digits(Xtrain, nb_delete),  # delete digits from training sample\n",
    "        [ytrain[:, i, j, :] for i in range(9) for j in range(9)],\n",
    "        validation_data=(\n",
    "            delete_digits(Xtrain, nb_delete), # delete same amount of digit from validation sample\n",
    "            [ytrain[:, i, j, :] for i in range(9) for j in range(9)]),\n",
    "        batch_size=128,\n",
    "        epochs=nb_epochs,\n",
    "        verbose=1,\n",
    "        callbacks=[early_stop]\n",
    "    )"
   ]
  },
  {
   "cell_type": "markdown",
   "metadata": {
    "_cell_guid": "27aa4dd7-922c-4054-becc-121e67f4d043",
    "_uuid": "39f84ab35f64c89007bd7016e8d6627ff757dba3"
   },
   "source": [
    "### Evaluate solver"
   ]
  },
  {
   "cell_type": "code",
   "execution_count": null,
   "metadata": {
    "_cell_guid": "3a8190a4-c8f2-429a-9654-b6d31670ca82",
    "_uuid": "a78823090db3e7c44340204f260c0cc4aeb49094"
   },
   "outputs": [],
   "source": [
    "quizzes = Xtest.argmax(3)  # quizzes in the (?, 9, 9) shape. From the test set\n",
    "true_grids = ytest.argmax(3) + 1  # true solutions dont forget to add 1 \n",
    "smart_guesses = batch_smart_solve(quizzes, solver)  # make smart guesses !\n",
    "\n",
    "deltas = diff(true_grids, smart_guesses)  # get number of errors on each quizz\n",
    "accuracy = (deltas == 0).mean()  # portion of correct solved quizzes"
   ]
  },
  {
   "cell_type": "code",
   "execution_count": null,
   "metadata": {
    "_cell_guid": "3cb047af-66ca-43c0-a764-c368facbe6f4",
    "_uuid": "90760b6bd536f12cca24fe0cc1f48551b092b9e6"
   },
   "outputs": [],
   "source": [
    "print(\n",
    "\"\"\"\n",
    "Grid solved:\\t {}\n",
    "Correct ones:\\t {}\n",
    "Accuracy:\\t {}\n",
    "\"\"\".format(\n",
    "deltas.shape[0], (deltas==0).sum(), accuracy\n",
    ")\n",
    ")"
   ]
  },
  {
   "cell_type": "markdown",
   "metadata": {
    "_cell_guid": "710318bc-0130-4367-ab61-8fd97cb0546b",
    "_uuid": "c8b8bf03f03d82dc83a479edf600d05642301100"
   },
   "source": [
    "Thanks for reading me :)"
   ]
  }
 ],
 "metadata": {
  "kernelspec": {
   "display_name": "Python 3",
   "language": "python",
   "name": "python3"
  },
  "language_info": {
   "codemirror_mode": {
    "name": "ipython",
    "version": 3
   },
   "file_extension": ".py",
   "mimetype": "text/x-python",
   "name": "python",
   "nbconvert_exporter": "python",
   "pygments_lexer": "ipython3",
   "version": "3.8.8"
  },
  "varInspector": {
   "cols": {
    "lenName": 16,
    "lenType": 16,
    "lenVar": 40
   },
   "kernels_config": {
    "python": {
     "delete_cmd_postfix": "",
     "delete_cmd_prefix": "del ",
     "library": "var_list.py",
     "varRefreshCmd": "print(var_dic_list())"
    },
    "r": {
     "delete_cmd_postfix": ") ",
     "delete_cmd_prefix": "rm(",
     "library": "var_list.r",
     "varRefreshCmd": "cat(var_dic_list()) "
    }
   },
   "types_to_exclude": [
    "module",
    "function",
    "builtin_function_or_method",
    "instance",
    "_Feature"
   ],
   "window_display": true
  }
 },
 "nbformat": 4,
 "nbformat_minor": 4
}
